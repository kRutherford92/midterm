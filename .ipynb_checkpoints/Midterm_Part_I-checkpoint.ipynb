{
 "cells": [
  {
   "cell_type": "markdown",
   "metadata": {},
   "source": [
    "<h1 align = \"center\"> Home Value Predictions in Greater Boston Area </h1> "
   ]
  },
  {
   "cell_type": "markdown",
   "metadata": {},
   "source": [
    "<img src=\"static/img/mls_listing.png\" width=800 align=\"center\">"
   ]
  },
  {
   "cell_type": "markdown",
   "metadata": {},
   "source": [
    "<h6 align = \"center\"> MLS Listing Preview </h6> "
   ]
  },
  {
   "cell_type": "markdown",
   "metadata": {},
   "source": [
    "## Introduction"
   ]
  },
  {
   "cell_type": "markdown",
   "metadata": {},
   "source": [
    "A home is often the largest and most expensive purchase a person makes in his or her lifetime. Ensuring homeowners have a trusted way to monitor this asset is incredibly important. While many individual homebuyers are less sensitive to price forecasts, small errors in price prediction can have systemic negative effects in the economy as a whole. Accurate prediction makes it easier to understand which features would influence the final property price."
   ]
  },
  {
   "cell_type": "markdown",
   "metadata": {},
   "source": [
    "## Problem Statement"
   ]
  },
  {
   "cell_type": "markdown",
   "metadata": {},
   "source": [
    "Real estate prices are very much dependent on factors that are not easy to control. Analyzing broader market conditions and specific property determinants in order to establish how property values may change over the course of time are utterly important. Massive data can be obtained about the current market situation, which demands using powerful machine learning algorithms in order to predict with high precision and in a reasonable time frame."
   ]
  },
  {
   "cell_type": "markdown",
   "metadata": {},
   "source": [
    "*Goal: Explore different models using internal data source (MLS data). Choose the best model as the final home valuation algorithms to predict prices on a new set of listings. Use price predictions and other listing features to build the app for the \"Midterm_Part_II\".*"
   ]
  },
  {
   "cell_type": "markdown",
   "metadata": {},
   "source": [
    "### Load libraries"
   ]
  },
  {
   "cell_type": "code",
   "execution_count": 1,
   "metadata": {
    "collapsed": true
   },
   "outputs": [],
   "source": [
    "import pandas as pd\n",
    "import numpy as np"
   ]
  },
  {
   "cell_type": "markdown",
   "metadata": {},
   "source": [
    "### Load Data"
   ]
  },
  {
   "cell_type": "markdown",
   "metadata": {},
   "source": [
    "Before we start with modelling, we have to take a closer look at our data features:"
   ]
  },
  {
   "cell_type": "code",
   "execution_count": 2,
   "metadata": {
    "collapsed": false
   },
   "outputs": [
    {
     "name": "stderr",
     "output_type": "stream",
     "text": [
      "C:\\Users\\Owner\\Anaconda3\\lib\\site-packages\\IPython\\core\\interactiveshell.py:2717: DtypeWarning: Columns (12) have mixed types. Specify dtype option on import or set low_memory=False.\n",
      "  interactivity=interactivity, compiler=compiler, result=result)\n"
     ]
    },
    {
     "data": {
      "text/plain": [
       "array(['Unnamed: 0', 'DisplayX', 'DisplayY', 'ADDRESS', 'CITY', 'STATE',\n",
       "       'ZIP', 'AGE', 'AGENTNAME', 'AREA', 'BATHS', 'BEDS', 'COOLING',\n",
       "       'DOM', 'DTO', 'ELEMENTARYSCHOOL', 'EXPIREDDATE', 'GARAGE',\n",
       "       'HEATING', 'HIGHSCHOOL', 'HOUSENUM1', 'HOUSENUM2',\n",
       "       'JUNIORHIGHSCHOOL', 'LEVEL', 'LISTDATE', 'LISTPRICE', 'LOTSIZE',\n",
       "       'MLSNUM', 'MONTH_ORIG', 'OFFICENAME', 'OFFICEPHONE',\n",
       "       'OTHERFEATURES', 'PHOTOURL', 'PROPTYPE', 'REMARKS',\n",
       "       'SHOWINGINSTRUCTIONS', 'SOLDDATE', 'SOLDPRICE', 'SQFT', 'STATUS',\n",
       "       'STREETNAME', 'STYLE', 'TYPE', 'YEAR_ORIG', 'zoMLSNUM',\n",
       "       'META_STATUS', 'MOS', 'Percent_diff', 'PPSF'], dtype=object)"
      ]
     },
     "execution_count": 2,
     "metadata": {},
     "output_type": "execute_result"
    }
   ],
   "source": [
    "# Read dataset columns\n",
    "all_columns = pd.read_csv('static/data/sold_geocoded.csv').columns.values\n",
    "all_columns"
   ]
  },
  {
   "cell_type": "markdown",
   "metadata": {},
   "source": [
    "Clearly, there are too many features in the dataset. We don't need all of them for this task. Let us choose a good set of predictors. "
   ]
  },
  {
   "cell_type": "code",
   "execution_count": 3,
   "metadata": {
    "collapsed": true
   },
   "outputs": [],
   "source": [
    "use_cols = ['MLSNUM','DisplayX','DisplayY','ZIP','AGE','BATHS','BEDS','GARAGE','LISTDATE',\n",
    "            'LISTPRICE','LOTSIZE','PROPTYPE','SOLDPRICE','SQFT', 'PPSF', 'PHOTOURL', 'REMARKS']"
   ]
  },
  {
   "cell_type": "markdown",
   "metadata": {},
   "source": [
    "Data description:\n",
    "\n",
    "    1. MLSNUM - listing number\n",
    "    2. DisplayX - latitude\n",
    "    3. DisplayY - longitude\n",
    "    4. ZIP - ZIP code\n",
    "    5. AGE - age of the building\n",
    "    6. BATHS - number of bathrooms \n",
    "    7. BEDS - number of bedrooms \n",
    "    8. GARAGE - number of parking spots in the building\n",
    "    9. LISTDATE - listed date of sale\n",
    "    10. LISTPRICE - asking price\n",
    "    11. LOTSIZE - building lotsize\n",
    "    12. PROPTYPE - building type (CC-condo; MF-multifamily, SF-single family)\n",
    "    13. SOLDPRICE - condo final price\n",
    "    14. SQFT - total condo square feet\n",
    "    15. PPSF - price per square foot\n",
    "    16. PHOTOURL - single condo picture URL\n",
    "    17. REMARKS - descriptions"
   ]
  },
  {
   "cell_type": "code",
   "execution_count": 15,
   "metadata": {
    "collapsed": false
   },
   "outputs": [
    {
     "data": {
      "text/html": [
       "<div>\n",
       "<table border=\"1\" class=\"dataframe\">\n",
       "  <thead>\n",
       "    <tr style=\"text-align: right;\">\n",
       "      <th></th>\n",
       "      <th>DisplayX</th>\n",
       "      <th>DisplayY</th>\n",
       "      <th>ZIP</th>\n",
       "      <th>AGE</th>\n",
       "      <th>BATHS</th>\n",
       "      <th>BEDS</th>\n",
       "      <th>GARAGE</th>\n",
       "      <th>LISTDATE</th>\n",
       "      <th>LISTPRICE</th>\n",
       "      <th>LOTSIZE</th>\n",
       "      <th>MLSNUM</th>\n",
       "      <th>PHOTOURL</th>\n",
       "      <th>PROPTYPE</th>\n",
       "      <th>REMARKS</th>\n",
       "      <th>SOLDPRICE</th>\n",
       "      <th>SQFT</th>\n",
       "      <th>PPSF</th>\n",
       "    </tr>\n",
       "  </thead>\n",
       "  <tbody>\n",
       "    <tr>\n",
       "      <th>0</th>\n",
       "      <td>-71.003531</td>\n",
       "      <td>42.834870</td>\n",
       "      <td>1860</td>\n",
       "      <td>12.0</td>\n",
       "      <td>1.0</td>\n",
       "      <td>2</td>\n",
       "      <td>2.0</td>\n",
       "      <td>3/26/2013 0:00:00</td>\n",
       "      <td>169900.0</td>\n",
       "      <td>NaN</td>\n",
       "      <td>71498924.0</td>\n",
       "      <td>http://media.mlspin.com/photo.aspx?mls=71498924</td>\n",
       "      <td>CC</td>\n",
       "      <td>Grange Hall Condominiums in downtown Merrimac....</td>\n",
       "      <td>177500.0</td>\n",
       "      <td>1283.0</td>\n",
       "      <td>138.347623</td>\n",
       "    </tr>\n",
       "    <tr>\n",
       "      <th>1</th>\n",
       "      <td>-71.893472</td>\n",
       "      <td>42.199845</td>\n",
       "      <td>1524</td>\n",
       "      <td>3.0</td>\n",
       "      <td>2.0</td>\n",
       "      <td>2</td>\n",
       "      <td>2.0</td>\n",
       "      <td>3/30/2013 0:00:00</td>\n",
       "      <td>279900.0</td>\n",
       "      <td>1306800.0</td>\n",
       "      <td>71500500.0</td>\n",
       "      <td>http://media.mlspin.com/photo.aspx?mls=71500500</td>\n",
       "      <td>CC</td>\n",
       "      <td>2”X6” WALL CONSTRUCTION-ENERGY EFFICIENT HOMES...</td>\n",
       "      <td>295850.0</td>\n",
       "      <td>1368.0</td>\n",
       "      <td>216.264620</td>\n",
       "    </tr>\n",
       "    <tr>\n",
       "      <th>2</th>\n",
       "      <td>-71.437349</td>\n",
       "      <td>42.653706</td>\n",
       "      <td>1879</td>\n",
       "      <td>5.0</td>\n",
       "      <td>2.5</td>\n",
       "      <td>2</td>\n",
       "      <td>2.0</td>\n",
       "      <td>10/10/2013 0:00:00</td>\n",
       "      <td>449900.0</td>\n",
       "      <td>5000.0</td>\n",
       "      <td>71595485.0</td>\n",
       "      <td>http://media.mlspin.com/photo.aspx?mls=71595485</td>\n",
       "      <td>CC</td>\n",
       "      <td>This 1.850 sq.ft. To be Built Pine Valley II s...</td>\n",
       "      <td>470519.0</td>\n",
       "      <td>1850.0</td>\n",
       "      <td>254.334595</td>\n",
       "    </tr>\n",
       "    <tr>\n",
       "      <th>3</th>\n",
       "      <td>-70.888071</td>\n",
       "      <td>42.507990</td>\n",
       "      <td>1970</td>\n",
       "      <td>117.0</td>\n",
       "      <td>2.0</td>\n",
       "      <td>2</td>\n",
       "      <td>1.0</td>\n",
       "      <td>10/21/2013 0:00:00</td>\n",
       "      <td>389500.0</td>\n",
       "      <td>8400.0</td>\n",
       "      <td>71599223.0</td>\n",
       "      <td>http://media.mlspin.com/photo.aspx?mls=71599223</td>\n",
       "      <td>CC</td>\n",
       "      <td>Salem - Water view Condo in renovated quality ...</td>\n",
       "      <td>383500.0</td>\n",
       "      <td>1502.0</td>\n",
       "      <td>255.326232</td>\n",
       "    </tr>\n",
       "    <tr>\n",
       "      <th>4</th>\n",
       "      <td>-70.904487</td>\n",
       "      <td>42.518712</td>\n",
       "      <td>1970</td>\n",
       "      <td>38.0</td>\n",
       "      <td>1.0</td>\n",
       "      <td>2</td>\n",
       "      <td>0.0</td>\n",
       "      <td>4/15/2014 0:00:00</td>\n",
       "      <td>237000.0</td>\n",
       "      <td>NaN</td>\n",
       "      <td>71661544.0</td>\n",
       "      <td>http://media.mlspin.com/photo.aspx?mls=71661544</td>\n",
       "      <td>CC</td>\n",
       "      <td>Welcome to this two bedroom townhouse located ...</td>\n",
       "      <td>232000.0</td>\n",
       "      <td>1469.0</td>\n",
       "      <td>157.930565</td>\n",
       "    </tr>\n",
       "  </tbody>\n",
       "</table>\n",
       "</div>"
      ],
      "text/plain": [
       "    DisplayX   DisplayY   ZIP    AGE  BATHS  BEDS  GARAGE            LISTDATE  \\\n",
       "0 -71.003531  42.834870  1860   12.0    1.0     2     2.0   3/26/2013 0:00:00   \n",
       "1 -71.893472  42.199845  1524    3.0    2.0     2     2.0   3/30/2013 0:00:00   \n",
       "2 -71.437349  42.653706  1879    5.0    2.5     2     2.0  10/10/2013 0:00:00   \n",
       "3 -70.888071  42.507990  1970  117.0    2.0     2     1.0  10/21/2013 0:00:00   \n",
       "4 -70.904487  42.518712  1970   38.0    1.0     2     0.0   4/15/2014 0:00:00   \n",
       "\n",
       "   LISTPRICE    LOTSIZE      MLSNUM  \\\n",
       "0   169900.0        NaN  71498924.0   \n",
       "1   279900.0  1306800.0  71500500.0   \n",
       "2   449900.0     5000.0  71595485.0   \n",
       "3   389500.0     8400.0  71599223.0   \n",
       "4   237000.0        NaN  71661544.0   \n",
       "\n",
       "                                          PHOTOURL PROPTYPE  \\\n",
       "0  http://media.mlspin.com/photo.aspx?mls=71498924       CC   \n",
       "1  http://media.mlspin.com/photo.aspx?mls=71500500       CC   \n",
       "2  http://media.mlspin.com/photo.aspx?mls=71595485       CC   \n",
       "3  http://media.mlspin.com/photo.aspx?mls=71599223       CC   \n",
       "4  http://media.mlspin.com/photo.aspx?mls=71661544       CC   \n",
       "\n",
       "                                             REMARKS  SOLDPRICE    SQFT  \\\n",
       "0  Grange Hall Condominiums in downtown Merrimac....   177500.0  1283.0   \n",
       "1  2”X6” WALL CONSTRUCTION-ENERGY EFFICIENT HOMES...   295850.0  1368.0   \n",
       "2  This 1.850 sq.ft. To be Built Pine Valley II s...   470519.0  1850.0   \n",
       "3  Salem - Water view Condo in renovated quality ...   383500.0  1502.0   \n",
       "4  Welcome to this two bedroom townhouse located ...   232000.0  1469.0   \n",
       "\n",
       "         PPSF  \n",
       "0  138.347623  \n",
       "1  216.264620  \n",
       "2  254.334595  \n",
       "3  255.326232  \n",
       "4  157.930565  "
      ]
     },
     "execution_count": 15,
     "metadata": {},
     "output_type": "execute_result"
    }
   ],
   "source": [
    "# Load data with selected set of features\n",
    "df_all = pd.read_csv('static/data/sold_geocoded.csv', usecols=use_cols)\n",
    "df_all.head()"
   ]
  },
  {
   "cell_type": "markdown",
   "metadata": {},
   "source": [
    "### Data Preprocessing"
   ]
  },
  {
   "cell_type": "markdown",
   "metadata": {},
   "source": [
    "This section includes preprocessing, technique necessary for the raw data transformation into an understandable format. MLS data may be often incomplete, inconsistent, and/or lacking in certain infomration, and is likely to contain many errors. Data preprocessing is a proven method of resolving such issues."
   ]
  },
  {
   "cell_type": "code",
   "execution_count": 16,
   "metadata": {
    "collapsed": true
   },
   "outputs": [],
   "source": [
    "# Clean PPSF data\n",
    "# PPSF has many \"inf\" values that need to be removed\n",
    "# Take a look at the function below and \n",
    "# make sure there are no any \"nan\" or \"inf\" values left\n",
    "\n",
    "df_all['PPSF'] = df_all['PPSF'].round(2)\n",
    "\n",
    "# array to store indices\n",
    "indexes = []\n",
    "\n",
    "# colect all indices that contain \"inf\" value\n",
    "for p in enumerate(df_all['PPSF']):\n",
    "    if p[1] == np.inf:\n",
    "        indexes.append(p[0])\n",
    "        \n",
    "# drop all rows with \"inf\" values        \n",
    "df_all = df_all.drop(df_all.index[indexes])  "
   ]
  },
  {
   "cell_type": "code",
   "execution_count": 17,
   "metadata": {
    "collapsed": false
   },
   "outputs": [
    {
     "data": {
      "text/plain": [
       "(158874, 17)"
      ]
     },
     "execution_count": 17,
     "metadata": {},
     "output_type": "execute_result"
    }
   ],
   "source": [
    "# Check the shape of the data - you should be able to see (158874, 17)\n",
    "df_all.shape"
   ]
  },
  {
   "cell_type": "markdown",
   "metadata": {},
   "source": [
    "YOUR TURN <br><br>\n",
    "**Question 1 (1 pt):** <br> *Create new column 'LISTMONTH', extracting the information from the 'LISTDATE' feature.*"
   ]
  },
  {
   "cell_type": "code",
   "execution_count": 18,
   "metadata": {
    "collapsed": false
   },
   "outputs": [],
   "source": [
    "# YOUR CODE HERE\n",
    "\n",
    "#Listdate and Listmonth\n",
    "df_all['LISTDATE'] = pd.to_datetime(df_all['LISTDATE'])\n",
    "df_all['LISTMONTH'] = df_all['LISTDATE'].apply(lambda x: x.month)"
   ]
  },
  {
   "cell_type": "code",
   "execution_count": 19,
   "metadata": {
    "collapsed": false
   },
   "outputs": [
    {
     "data": {
      "text/plain": [
       "DisplayX            float64\n",
       "DisplayY            float64\n",
       "ZIP                   int64\n",
       "AGE                 float64\n",
       "BATHS               float64\n",
       "BEDS                  int64\n",
       "GARAGE              float64\n",
       "LISTDATE     datetime64[ns]\n",
       "LISTPRICE           float64\n",
       "LOTSIZE             float64\n",
       "MLSNUM              float64\n",
       "PHOTOURL             object\n",
       "PROPTYPE             object\n",
       "REMARKS              object\n",
       "SOLDPRICE           float64\n",
       "SQFT                float64\n",
       "PPSF                float64\n",
       "LISTMONTH             int64\n",
       "dtype: object"
      ]
     },
     "execution_count": 19,
     "metadata": {},
     "output_type": "execute_result"
    }
   ],
   "source": [
    "# Check datatypes\n",
    "df_all.dtypes"
   ]
  },
  {
   "cell_type": "markdown",
   "metadata": {},
   "source": [
    "The above output should be exactly the same as this one:<br>\n",
    "<img src=\"static/img/dtypes.png\" align=\"left\">"
   ]
  },
  {
   "cell_type": "markdown",
   "metadata": {},
   "source": [
    "YOUR TURN <br> <br> **Question 2 (1 pt):** <br> *One-hot encode 'ZIP' feature, using pandas get_dummies() method.*"
   ]
  },
  {
   "cell_type": "code",
   "execution_count": 20,
   "metadata": {
    "collapsed": true
   },
   "outputs": [],
   "source": [
    "# YOUR CODE HERE\n",
    "df_all = pd.get_dummies(df_all, columns=['ZIP'])"
   ]
  },
  {
   "cell_type": "code",
   "execution_count": 24,
   "metadata": {
    "collapsed": true
   },
   "outputs": [],
   "source": [
    "# The final cleaning step is to take care of missing values\n",
    "# Drop all \"nan\" rows/cols using .dropna() pandas method\n",
    "df_all.dropna(inplace=True)"
   ]
  },
  {
   "cell_type": "code",
   "execution_count": 26,
   "metadata": {
    "collapsed": false,
    "scrolled": true
   },
   "outputs": [
    {
     "data": {
      "text/plain": [
       "DisplayX     0\n",
       "DisplayY     0\n",
       "AGE          0\n",
       "BATHS        0\n",
       "BEDS         0\n",
       "GARAGE       0\n",
       "LISTDATE     0\n",
       "LISTPRICE    0\n",
       "LOTSIZE      0\n",
       "MLSNUM       0\n",
       "PHOTOURL     0\n",
       "PROPTYPE     0\n",
       "REMARKS      0\n",
       "SOLDPRICE    0\n",
       "SQFT         0\n",
       "PPSF         0\n",
       "LISTMONTH    0\n",
       "ZIP_0        0\n",
       "ZIP_161      0\n",
       "ZIP_180      0\n",
       "ZIP_185      0\n",
       "ZIP_198      0\n",
       "ZIP_211      0\n",
       "ZIP_216      0\n",
       "ZIP_218      0\n",
       "ZIP_256      0\n",
       "ZIP_263      0\n",
       "ZIP_1000     0\n",
       "ZIP_1001     0\n",
       "ZIP_1002     0\n",
       "            ..\n",
       "ZIP_3034     0\n",
       "ZIP_3858     0\n",
       "ZIP_4120     0\n",
       "ZIP_5510     0\n",
       "ZIP_7766     0\n",
       "ZIP_8145     0\n",
       "ZIP_8164     0\n",
       "ZIP_8835     0\n",
       "ZIP_8861     0\n",
       "ZIP_9107     0\n",
       "ZIP_10002    0\n",
       "ZIP_10018    0\n",
       "ZIP_10157    0\n",
       "ZIP_10175    0\n",
       "ZIP_10468    0\n",
       "ZIP_10603    0\n",
       "ZIP_10826    0\n",
       "ZIP_10902    0\n",
       "ZIP_10915    0\n",
       "ZIP_20155    0\n",
       "ZIP_20184    0\n",
       "ZIP_20302    0\n",
       "ZIP_20382    0\n",
       "ZIP_20452    0\n",
       "ZIP_20743    0\n",
       "ZIP_20771    0\n",
       "ZIP_20779    0\n",
       "ZIP_92148    0\n",
       "ZIP_92664    0\n",
       "ZIP_92962    0\n",
       "dtype: int64"
      ]
     },
     "execution_count": 26,
     "metadata": {},
     "output_type": "execute_result"
    }
   ],
   "source": [
    "# Final check for \"nan\" values\n",
    "# Notice the use of .head(18) here!!!\n",
    "# We are preventing long outputs and\n",
    "# try to print only columns that corespond to \"use_cols\" features set\n",
    "# Important: Remove .head(18) to check all features\n",
    "\n",
    "df_all.isnull().sum()"
   ]
  },
  {
   "cell_type": "markdown",
   "metadata": {
    "collapsed": true
   },
   "source": [
    "YOUR TURN <br><br>\n",
    "**Question 3 (1 pt):** <br> *Extract condos data and create the new dataframe called \"condos\".* \n",
    "<br><br>Hint: PROPTYPE has 3 unique values: 'CC','MF', and 'CC', where 'CC' stands for **condos**."
   ]
  },
  {
   "cell_type": "code",
   "execution_count": 28,
   "metadata": {
    "collapsed": false
   },
   "outputs": [],
   "source": [
    "# YOUR CODE HERE\n",
    "condos = df_all[df_all.PROPTYPE == 'CC']"
   ]
  },
  {
   "cell_type": "markdown",
   "metadata": {},
   "source": [
    "Let us sort all condo values by 'LISTDATE' and check the final shape of the data:"
   ]
  },
  {
   "cell_type": "code",
   "execution_count": 29,
   "metadata": {
    "collapsed": false
   },
   "outputs": [
    {
     "data": {
      "text/html": [
       "<div>\n",
       "<table border=\"1\" class=\"dataframe\">\n",
       "  <thead>\n",
       "    <tr style=\"text-align: right;\">\n",
       "      <th></th>\n",
       "      <th>DisplayX</th>\n",
       "      <th>DisplayY</th>\n",
       "      <th>AGE</th>\n",
       "      <th>BATHS</th>\n",
       "      <th>BEDS</th>\n",
       "      <th>GARAGE</th>\n",
       "      <th>LISTDATE</th>\n",
       "      <th>LISTPRICE</th>\n",
       "      <th>LOTSIZE</th>\n",
       "      <th>MLSNUM</th>\n",
       "      <th>...</th>\n",
       "      <th>ZIP_20184</th>\n",
       "      <th>ZIP_20302</th>\n",
       "      <th>ZIP_20382</th>\n",
       "      <th>ZIP_20452</th>\n",
       "      <th>ZIP_20743</th>\n",
       "      <th>ZIP_20771</th>\n",
       "      <th>ZIP_20779</th>\n",
       "      <th>ZIP_92148</th>\n",
       "      <th>ZIP_92664</th>\n",
       "      <th>ZIP_92962</th>\n",
       "    </tr>\n",
       "  </thead>\n",
       "  <tbody>\n",
       "    <tr>\n",
       "      <th>122119</th>\n",
       "      <td>-70.935221</td>\n",
       "      <td>42.497680</td>\n",
       "      <td>31.0</td>\n",
       "      <td>2.5</td>\n",
       "      <td>3</td>\n",
       "      <td>1.0</td>\n",
       "      <td>2012-05-06</td>\n",
       "      <td>295000.0</td>\n",
       "      <td>938718.0</td>\n",
       "      <td>71378749.0</td>\n",
       "      <td>...</td>\n",
       "      <td>0.0</td>\n",
       "      <td>0.0</td>\n",
       "      <td>0.0</td>\n",
       "      <td>0.0</td>\n",
       "      <td>0.0</td>\n",
       "      <td>0.0</td>\n",
       "      <td>0.0</td>\n",
       "      <td>0.0</td>\n",
       "      <td>0.0</td>\n",
       "      <td>0.0</td>\n",
       "    </tr>\n",
       "    <tr>\n",
       "      <th>23494</th>\n",
       "      <td>-71.435071</td>\n",
       "      <td>42.652326</td>\n",
       "      <td>2.0</td>\n",
       "      <td>2.5</td>\n",
       "      <td>2</td>\n",
       "      <td>2.0</td>\n",
       "      <td>2013-02-23</td>\n",
       "      <td>612799.0</td>\n",
       "      <td>4597.0</td>\n",
       "      <td>72109900.0</td>\n",
       "      <td>...</td>\n",
       "      <td>0.0</td>\n",
       "      <td>0.0</td>\n",
       "      <td>0.0</td>\n",
       "      <td>0.0</td>\n",
       "      <td>0.0</td>\n",
       "      <td>0.0</td>\n",
       "      <td>0.0</td>\n",
       "      <td>0.0</td>\n",
       "      <td>0.0</td>\n",
       "      <td>0.0</td>\n",
       "    </tr>\n",
       "    <tr>\n",
       "      <th>1</th>\n",
       "      <td>-71.893472</td>\n",
       "      <td>42.199845</td>\n",
       "      <td>3.0</td>\n",
       "      <td>2.0</td>\n",
       "      <td>2</td>\n",
       "      <td>2.0</td>\n",
       "      <td>2013-03-30</td>\n",
       "      <td>279900.0</td>\n",
       "      <td>1306800.0</td>\n",
       "      <td>71500500.0</td>\n",
       "      <td>...</td>\n",
       "      <td>0.0</td>\n",
       "      <td>0.0</td>\n",
       "      <td>0.0</td>\n",
       "      <td>0.0</td>\n",
       "      <td>0.0</td>\n",
       "      <td>0.0</td>\n",
       "      <td>0.0</td>\n",
       "      <td>0.0</td>\n",
       "      <td>0.0</td>\n",
       "      <td>0.0</td>\n",
       "    </tr>\n",
       "    <tr>\n",
       "      <th>113725</th>\n",
       "      <td>-71.316857</td>\n",
       "      <td>42.362081</td>\n",
       "      <td>3.0</td>\n",
       "      <td>3.5</td>\n",
       "      <td>3</td>\n",
       "      <td>2.0</td>\n",
       "      <td>2013-04-28</td>\n",
       "      <td>2795000.0</td>\n",
       "      <td>0.0</td>\n",
       "      <td>71515996.0</td>\n",
       "      <td>...</td>\n",
       "      <td>0.0</td>\n",
       "      <td>0.0</td>\n",
       "      <td>0.0</td>\n",
       "      <td>0.0</td>\n",
       "      <td>0.0</td>\n",
       "      <td>0.0</td>\n",
       "      <td>0.0</td>\n",
       "      <td>0.0</td>\n",
       "      <td>0.0</td>\n",
       "      <td>0.0</td>\n",
       "    </tr>\n",
       "    <tr>\n",
       "      <th>13698</th>\n",
       "      <td>-70.934101</td>\n",
       "      <td>41.543220</td>\n",
       "      <td>118.0</td>\n",
       "      <td>2.5</td>\n",
       "      <td>2</td>\n",
       "      <td>0.0</td>\n",
       "      <td>2013-06-21</td>\n",
       "      <td>379999.0</td>\n",
       "      <td>0.0</td>\n",
       "      <td>71545648.0</td>\n",
       "      <td>...</td>\n",
       "      <td>0.0</td>\n",
       "      <td>0.0</td>\n",
       "      <td>0.0</td>\n",
       "      <td>0.0</td>\n",
       "      <td>0.0</td>\n",
       "      <td>0.0</td>\n",
       "      <td>0.0</td>\n",
       "      <td>0.0</td>\n",
       "      <td>0.0</td>\n",
       "      <td>0.0</td>\n",
       "    </tr>\n",
       "  </tbody>\n",
       "</table>\n",
       "<p>5 rows × 725 columns</p>\n",
       "</div>"
      ],
      "text/plain": [
       "         DisplayX   DisplayY    AGE  BATHS  BEDS  GARAGE   LISTDATE  \\\n",
       "122119 -70.935221  42.497680   31.0    2.5     3     1.0 2012-05-06   \n",
       "23494  -71.435071  42.652326    2.0    2.5     2     2.0 2013-02-23   \n",
       "1      -71.893472  42.199845    3.0    2.0     2     2.0 2013-03-30   \n",
       "113725 -71.316857  42.362081    3.0    3.5     3     2.0 2013-04-28   \n",
       "13698  -70.934101  41.543220  118.0    2.5     2     0.0 2013-06-21   \n",
       "\n",
       "        LISTPRICE    LOTSIZE      MLSNUM    ...     ZIP_20184 ZIP_20302  \\\n",
       "122119   295000.0   938718.0  71378749.0    ...           0.0       0.0   \n",
       "23494    612799.0     4597.0  72109900.0    ...           0.0       0.0   \n",
       "1        279900.0  1306800.0  71500500.0    ...           0.0       0.0   \n",
       "113725  2795000.0        0.0  71515996.0    ...           0.0       0.0   \n",
       "13698    379999.0        0.0  71545648.0    ...           0.0       0.0   \n",
       "\n",
       "       ZIP_20382  ZIP_20452  ZIP_20743  ZIP_20771  ZIP_20779  ZIP_92148  \\\n",
       "122119       0.0        0.0        0.0        0.0        0.0        0.0   \n",
       "23494        0.0        0.0        0.0        0.0        0.0        0.0   \n",
       "1            0.0        0.0        0.0        0.0        0.0        0.0   \n",
       "113725       0.0        0.0        0.0        0.0        0.0        0.0   \n",
       "13698        0.0        0.0        0.0        0.0        0.0        0.0   \n",
       "\n",
       "        ZIP_92664  ZIP_92962  \n",
       "122119        0.0        0.0  \n",
       "23494         0.0        0.0  \n",
       "1             0.0        0.0  \n",
       "113725        0.0        0.0  \n",
       "13698         0.0        0.0  \n",
       "\n",
       "[5 rows x 725 columns]"
      ]
     },
     "execution_count": 29,
     "metadata": {},
     "output_type": "execute_result"
    }
   ],
   "source": [
    "# Sort all values by 'LISTDATE'\n",
    "condos = condos.sort_values(by='LISTDATE')\n",
    "condos.head()"
   ]
  },
  {
   "cell_type": "code",
   "execution_count": 30,
   "metadata": {
    "collapsed": false
   },
   "outputs": [
    {
     "data": {
      "text/plain": [
       "(10027, 725)"
      ]
     },
     "execution_count": 30,
     "metadata": {},
     "output_type": "execute_result"
    }
   ],
   "source": [
    "# Condos shape - you shoud see (10027, 725)\n",
    "condos.shape"
   ]
  },
  {
   "cell_type": "markdown",
   "metadata": {},
   "source": [
    "### Split data into \"future_data\" and \"training_data\""
   ]
  },
  {
   "cell_type": "markdown",
   "metadata": {},
   "source": [
    "So far we have worked on cleaning the data. Now, we want to split it into two datasets: \"training_data\" and \"future_data\". The first dataset (\"training_data\") as its name implies will serve for training and second dataset  (\"future_data\") will act like a future, \"unseen\" data. The final (best) model will be used to predict prices on \"future_data\" dataset."
   ]
  },
  {
   "cell_type": "code",
   "execution_count": 31,
   "metadata": {
    "collapsed": true
   },
   "outputs": [],
   "source": [
    "# Create \"future_data\" dataset\n",
    "# Future data does not have SOLDPRICE and thus, the feature should be excluded\n",
    "# NOTE: Future data will have 60 listings - see how we slice the data \n",
    "# Export data as \"midterm_future_data.csv\", storing the dataset in your \"data\" folder\n",
    "\n",
    "future_data = condos[9967:]\n",
    "future_data_features = list(set(future_data.columns) - set(['SOLDPRICE'])) \n",
    "future_data = future_data[future_data_features]\n",
    "future_data.to_csv('static/data/midterm_future_data.csv', index=None)"
   ]
  },
  {
   "cell_type": "code",
   "execution_count": 32,
   "metadata": {
    "collapsed": false
   },
   "outputs": [
    {
     "data": {
      "text/plain": [
       "(60, 724)"
      ]
     },
     "execution_count": 32,
     "metadata": {},
     "output_type": "execute_result"
    }
   ],
   "source": [
    "# Check future_data shape - you shoud see (60, 724)\n",
    "future_data.shape"
   ]
  },
  {
   "cell_type": "markdown",
   "metadata": {
    "collapsed": true
   },
   "source": [
    "YOUR TURN <br><br>\n",
    "**Question 4 (1 pt):** <br> *Create \"training_data.csv\" dataset and store it into your \"data\" folder.* <br><br>Training data should contain all data except the last 60 obsevrations we have periously exported as \"midterm_future_data.csv\" data. "
   ]
  },
  {
   "cell_type": "code",
   "execution_count": 35,
   "metadata": {
    "collapsed": true
   },
   "outputs": [],
   "source": [
    "# YOUR CODE HERE\n",
    "training_data = condos[:9967]\n",
    "training_data.to_csv('static/data/midterm_training_data.csv', index=None)"
   ]
  },
  {
   "cell_type": "code",
   "execution_count": 36,
   "metadata": {
    "collapsed": false
   },
   "outputs": [
    {
     "data": {
      "text/plain": [
       "(9967, 725)"
      ]
     },
     "execution_count": 36,
     "metadata": {},
     "output_type": "execute_result"
    }
   ],
   "source": [
    "# Check the shape of your data - you shoud see (9967, 725)\n",
    "training_data.shape"
   ]
  },
  {
   "cell_type": "markdown",
   "metadata": {},
   "source": [
    "Before we move on, make sure you have \"midterm_future_data.csv\" and \"midterm_training_data.csv\" datasets stored into your \"data\" folder (they will be together with you \"sold_geocoded.csv\" dataset):\n",
    "\n",
    "<img src=\"static/img/datasets.png\" align=\"left\">"
   ]
  },
  {
   "cell_type": "markdown",
   "metadata": {},
   "source": [
    "## Data Modeling"
   ]
  },
  {
   "cell_type": "markdown",
   "metadata": {},
   "source": [
    "In this section we are going to train, test, and choose the best performing model. The steps are the following:\n",
    "    1. Load \"midterm_training_data.csv\" \n",
    "    2. Choose an appropriate feature set\n",
    "    3. Train/Test data by using 2 models:\n",
    "        - Random Forest\n",
    "        - Gradient Boosting\n",
    "    4. Choose better model and export predictions"
   ]
  },
  {
   "cell_type": "markdown",
   "metadata": {},
   "source": [
    "#### Load \"midterm_training_data.csv\" dataset"
   ]
  },
  {
   "cell_type": "code",
   "execution_count": 41,
   "metadata": {
    "collapsed": false
   },
   "outputs": [
    {
     "data": {
      "text/html": [
       "<div>\n",
       "<table border=\"1\" class=\"dataframe\">\n",
       "  <thead>\n",
       "    <tr style=\"text-align: right;\">\n",
       "      <th></th>\n",
       "      <th>DisplayX</th>\n",
       "      <th>DisplayY</th>\n",
       "      <th>AGE</th>\n",
       "      <th>BATHS</th>\n",
       "      <th>BEDS</th>\n",
       "      <th>GARAGE</th>\n",
       "      <th>LISTDATE</th>\n",
       "      <th>LISTPRICE</th>\n",
       "      <th>LOTSIZE</th>\n",
       "      <th>MLSNUM</th>\n",
       "      <th>...</th>\n",
       "      <th>ZIP_20184</th>\n",
       "      <th>ZIP_20302</th>\n",
       "      <th>ZIP_20382</th>\n",
       "      <th>ZIP_20452</th>\n",
       "      <th>ZIP_20743</th>\n",
       "      <th>ZIP_20771</th>\n",
       "      <th>ZIP_20779</th>\n",
       "      <th>ZIP_92148</th>\n",
       "      <th>ZIP_92664</th>\n",
       "      <th>ZIP_92962</th>\n",
       "    </tr>\n",
       "  </thead>\n",
       "  <tbody>\n",
       "    <tr>\n",
       "      <th>0</th>\n",
       "      <td>-70.935221</td>\n",
       "      <td>42.497680</td>\n",
       "      <td>31.0</td>\n",
       "      <td>2.5</td>\n",
       "      <td>3</td>\n",
       "      <td>1.0</td>\n",
       "      <td>2012-05-06</td>\n",
       "      <td>295000.0</td>\n",
       "      <td>938718.0</td>\n",
       "      <td>71378749.0</td>\n",
       "      <td>...</td>\n",
       "      <td>0.0</td>\n",
       "      <td>0.0</td>\n",
       "      <td>0.0</td>\n",
       "      <td>0.0</td>\n",
       "      <td>0.0</td>\n",
       "      <td>0.0</td>\n",
       "      <td>0.0</td>\n",
       "      <td>0.0</td>\n",
       "      <td>0.0</td>\n",
       "      <td>0.0</td>\n",
       "    </tr>\n",
       "    <tr>\n",
       "      <th>1</th>\n",
       "      <td>-71.435071</td>\n",
       "      <td>42.652326</td>\n",
       "      <td>2.0</td>\n",
       "      <td>2.5</td>\n",
       "      <td>2</td>\n",
       "      <td>2.0</td>\n",
       "      <td>2013-02-23</td>\n",
       "      <td>612799.0</td>\n",
       "      <td>4597.0</td>\n",
       "      <td>72109900.0</td>\n",
       "      <td>...</td>\n",
       "      <td>0.0</td>\n",
       "      <td>0.0</td>\n",
       "      <td>0.0</td>\n",
       "      <td>0.0</td>\n",
       "      <td>0.0</td>\n",
       "      <td>0.0</td>\n",
       "      <td>0.0</td>\n",
       "      <td>0.0</td>\n",
       "      <td>0.0</td>\n",
       "      <td>0.0</td>\n",
       "    </tr>\n",
       "    <tr>\n",
       "      <th>2</th>\n",
       "      <td>-71.893472</td>\n",
       "      <td>42.199845</td>\n",
       "      <td>3.0</td>\n",
       "      <td>2.0</td>\n",
       "      <td>2</td>\n",
       "      <td>2.0</td>\n",
       "      <td>2013-03-30</td>\n",
       "      <td>279900.0</td>\n",
       "      <td>1306800.0</td>\n",
       "      <td>71500500.0</td>\n",
       "      <td>...</td>\n",
       "      <td>0.0</td>\n",
       "      <td>0.0</td>\n",
       "      <td>0.0</td>\n",
       "      <td>0.0</td>\n",
       "      <td>0.0</td>\n",
       "      <td>0.0</td>\n",
       "      <td>0.0</td>\n",
       "      <td>0.0</td>\n",
       "      <td>0.0</td>\n",
       "      <td>0.0</td>\n",
       "    </tr>\n",
       "    <tr>\n",
       "      <th>3</th>\n",
       "      <td>-71.316857</td>\n",
       "      <td>42.362081</td>\n",
       "      <td>3.0</td>\n",
       "      <td>3.5</td>\n",
       "      <td>3</td>\n",
       "      <td>2.0</td>\n",
       "      <td>2013-04-28</td>\n",
       "      <td>2795000.0</td>\n",
       "      <td>0.0</td>\n",
       "      <td>71515996.0</td>\n",
       "      <td>...</td>\n",
       "      <td>0.0</td>\n",
       "      <td>0.0</td>\n",
       "      <td>0.0</td>\n",
       "      <td>0.0</td>\n",
       "      <td>0.0</td>\n",
       "      <td>0.0</td>\n",
       "      <td>0.0</td>\n",
       "      <td>0.0</td>\n",
       "      <td>0.0</td>\n",
       "      <td>0.0</td>\n",
       "    </tr>\n",
       "    <tr>\n",
       "      <th>4</th>\n",
       "      <td>-70.934101</td>\n",
       "      <td>41.543220</td>\n",
       "      <td>118.0</td>\n",
       "      <td>2.5</td>\n",
       "      <td>2</td>\n",
       "      <td>0.0</td>\n",
       "      <td>2013-06-21</td>\n",
       "      <td>379999.0</td>\n",
       "      <td>0.0</td>\n",
       "      <td>71545648.0</td>\n",
       "      <td>...</td>\n",
       "      <td>0.0</td>\n",
       "      <td>0.0</td>\n",
       "      <td>0.0</td>\n",
       "      <td>0.0</td>\n",
       "      <td>0.0</td>\n",
       "      <td>0.0</td>\n",
       "      <td>0.0</td>\n",
       "      <td>0.0</td>\n",
       "      <td>0.0</td>\n",
       "      <td>0.0</td>\n",
       "    </tr>\n",
       "  </tbody>\n",
       "</table>\n",
       "<p>5 rows × 725 columns</p>\n",
       "</div>"
      ],
      "text/plain": [
       "    DisplayX   DisplayY    AGE  BATHS  BEDS  GARAGE    LISTDATE  LISTPRICE  \\\n",
       "0 -70.935221  42.497680   31.0    2.5     3     1.0  2012-05-06   295000.0   \n",
       "1 -71.435071  42.652326    2.0    2.5     2     2.0  2013-02-23   612799.0   \n",
       "2 -71.893472  42.199845    3.0    2.0     2     2.0  2013-03-30   279900.0   \n",
       "3 -71.316857  42.362081    3.0    3.5     3     2.0  2013-04-28  2795000.0   \n",
       "4 -70.934101  41.543220  118.0    2.5     2     0.0  2013-06-21   379999.0   \n",
       "\n",
       "     LOTSIZE      MLSNUM    ...     ZIP_20184 ZIP_20302 ZIP_20382  ZIP_20452  \\\n",
       "0   938718.0  71378749.0    ...           0.0       0.0       0.0        0.0   \n",
       "1     4597.0  72109900.0    ...           0.0       0.0       0.0        0.0   \n",
       "2  1306800.0  71500500.0    ...           0.0       0.0       0.0        0.0   \n",
       "3        0.0  71515996.0    ...           0.0       0.0       0.0        0.0   \n",
       "4        0.0  71545648.0    ...           0.0       0.0       0.0        0.0   \n",
       "\n",
       "   ZIP_20743  ZIP_20771  ZIP_20779  ZIP_92148  ZIP_92664  ZIP_92962  \n",
       "0        0.0        0.0        0.0        0.0        0.0        0.0  \n",
       "1        0.0        0.0        0.0        0.0        0.0        0.0  \n",
       "2        0.0        0.0        0.0        0.0        0.0        0.0  \n",
       "3        0.0        0.0        0.0        0.0        0.0        0.0  \n",
       "4        0.0        0.0        0.0        0.0        0.0        0.0  \n",
       "\n",
       "[5 rows x 725 columns]"
      ]
     },
     "execution_count": 41,
     "metadata": {},
     "output_type": "execute_result"
    }
   ],
   "source": [
    "# Load data\n",
    "train = pd.read_csv('static/data/midterm_training_data.csv', encoding='ISO-8859-1')\n",
    "train.head()"
   ]
  },
  {
   "cell_type": "markdown",
   "metadata": {},
   "source": [
    "#### Select features"
   ]
  },
  {
   "cell_type": "markdown",
   "metadata": {},
   "source": [
    "Exclude 'LISTPRICE','SOLDPRICE', and 'LISTDATE' given that, these are unknown features for any given listing in the future. 'DisplayX'and 'DisplayY' cannot be used as predictors. Usually, they have been used to create distance matrices necessary for estimating the nearest neighbors, which is outside of the scope of this work. 'PHOTOURL' are URL links and 'MLSNUM' is a Database ID. 'REMARKS' are descritpions (we are not doing text analysis here) and thus we are exclusing them as well. We have already extracted condos ('CC') from the 'PROPTYPE' feature."
   ]
  },
  {
   "cell_type": "code",
   "execution_count": 43,
   "metadata": {
    "collapsed": true
   },
   "outputs": [],
   "source": [
    "# Create train_features valiable and store selected features in it\n",
    "train_features = list(set(train.columns) - set(['PHOTOURL','MLSNUM','SOLDPRICE','REMARKS','LISTDATE',\n",
    "                                          'LISTPRICE','PROPTYPE', 'DisplayX','DisplayY']))"
   ]
  },
  {
   "cell_type": "markdown",
   "metadata": {},
   "source": [
    "#### Train/Test data"
   ]
  },
  {
   "cell_type": "code",
   "execution_count": 46,
   "metadata": {
    "collapsed": true
   },
   "outputs": [],
   "source": [
    "# Load sklearn library\n",
    "from sklearn.model_selection import train_test_split"
   ]
  },
  {
   "cell_type": "markdown",
   "metadata": {},
   "source": [
    "YOUR TURN <br><br>\n",
    "**Question 5 (1 pt):** <br> *Train - Test - **Split** * <br><br>Use sklearn to split the train dataset into train and test. Specifically, create 'X_train', 'X_test', 'y_train', and 'y_test' datasets. Use 70% for the train and 30% for the test data. Come up with your unique random_state number.\"  "
   ]
  },
  {
   "cell_type": "code",
   "execution_count": 49,
   "metadata": {
    "collapsed": true
   },
   "outputs": [],
   "source": [
    "# YOUR CODE\n",
    "response_col = 'SOLDPRICE'\n",
    "test_size = 0.3\n",
    "random_state = 7458\n",
    "\n",
    "X_train, X_test, y_train, y_test = train_test_split(train[train_features], train[response_col], test_size=test_size, random_state=random_state)"
   ]
  },
  {
   "cell_type": "code",
   "execution_count": 50,
   "metadata": {
    "collapsed": false
   },
   "outputs": [
    {
     "name": "stdout",
     "output_type": "stream",
     "text": [
      "X_train.shape = (6976, 716), y_train.shape = (6976,)\n",
      "X_test.shape = (2991, 716), y_test.shape = (2991,)\n"
     ]
    }
   ],
   "source": [
    "# Check the shape of the data\n",
    "# You should get: \n",
    "# X_train.shape = (6976, 716), y_train.shape = (6976,)\n",
    "# X_test.shape = (2991, 716), y_test.shape = (2991,)\n",
    "\n",
    "print('X_train.shape = {}, y_train.shape = {}'.format(X_train.shape, y_train.shape))\n",
    "print('X_test.shape = {}, y_test.shape = {}'.format(X_test.shape, y_test.shape))"
   ]
  },
  {
   "cell_type": "markdown",
   "metadata": {},
   "source": [
    "### Training Your Models"
   ]
  },
  {
   "cell_type": "code",
   "execution_count": 51,
   "metadata": {
    "collapsed": false
   },
   "outputs": [
    {
     "name": "stderr",
     "output_type": "stream",
     "text": [
      "C:\\Users\\Owner\\Anaconda3\\lib\\site-packages\\sklearn\\ensemble\\weight_boosting.py:29: DeprecationWarning: numpy.core.umath_tests is an internal NumPy module and should not be imported. It will be removed in a future NumPy release.\n",
      "  from numpy.core.umath_tests import inner1d\n"
     ]
    }
   ],
   "source": [
    "# Load library\n",
    "from sklearn.ensemble import RandomForestRegressor"
   ]
  },
  {
   "cell_type": "markdown",
   "metadata": {},
   "source": [
    "YOUR TURN <br><br>\n",
    "**Question 6 (1 pt):** <br> *Train data using Random Forest model.*"
   ]
  },
  {
   "cell_type": "code",
   "execution_count": 56,
   "metadata": {
    "collapsed": false
   },
   "outputs": [
    {
     "data": {
      "text/plain": [
       "0.9613531346177606"
      ]
     },
     "execution_count": 56,
     "metadata": {},
     "output_type": "execute_result"
    }
   ],
   "source": [
    "# YOUR CODE HERE\n",
    "rf = RandomForestRegressor(random_state=10)\n",
    "rf.fit(X_train, y_train)\n",
    "\n",
    "rf.score(X_test, y_test)"
   ]
  },
  {
   "cell_type": "code",
   "execution_count": 53,
   "metadata": {
    "collapsed": true
   },
   "outputs": [],
   "source": [
    "# Load library\n",
    "from sklearn.ensemble import GradientBoostingRegressor"
   ]
  },
  {
   "cell_type": "markdown",
   "metadata": {},
   "source": [
    "YOUR TURN <br><br>\n",
    "**Question 7 (1 pt):** <br> *Train data using Gradient Boosting model.*"
   ]
  },
  {
   "cell_type": "code",
   "execution_count": 57,
   "metadata": {
    "collapsed": false
   },
   "outputs": [
    {
     "data": {
      "text/plain": [
       "0.9813507301200621"
      ]
     },
     "execution_count": 57,
     "metadata": {},
     "output_type": "execute_result"
    }
   ],
   "source": [
    "# YOUR CODE HERE\n",
    "gb = GradientBoostingRegressor().fit(X_train, y_train)\n",
    "gb.score(X_test, y_test)"
   ]
  },
  {
   "cell_type": "markdown",
   "metadata": {},
   "source": [
    "### Predict on Future Data"
   ]
  },
  {
   "cell_type": "code",
   "execution_count": 59,
   "metadata": {
    "collapsed": false
   },
   "outputs": [
    {
     "data": {
      "text/html": [
       "<div>\n",
       "<table border=\"1\" class=\"dataframe\">\n",
       "  <thead>\n",
       "    <tr style=\"text-align: right;\">\n",
       "      <th></th>\n",
       "      <th>ZIP_1366</th>\n",
       "      <th>ZIP_1005</th>\n",
       "      <th>ZIP_1568</th>\n",
       "      <th>ZIP_2135</th>\n",
       "      <th>ZIP_2068</th>\n",
       "      <th>ZIP_1951</th>\n",
       "      <th>ZIP_1095</th>\n",
       "      <th>ZIP_1508</th>\n",
       "      <th>ZIP_2301</th>\n",
       "      <th>ZIP_2026</th>\n",
       "      <th>...</th>\n",
       "      <th>ZIP_180</th>\n",
       "      <th>ZIP_1720</th>\n",
       "      <th>ZIP_1961</th>\n",
       "      <th>ZIP_1104</th>\n",
       "      <th>ZIP_1344</th>\n",
       "      <th>ZIP_1571</th>\n",
       "      <th>ZIP_2370</th>\n",
       "      <th>ZIP_2626</th>\n",
       "      <th>ZIP_8835</th>\n",
       "      <th>ZIP_1825</th>\n",
       "    </tr>\n",
       "  </thead>\n",
       "  <tbody>\n",
       "    <tr>\n",
       "      <th>0</th>\n",
       "      <td>0.0</td>\n",
       "      <td>0.0</td>\n",
       "      <td>0.0</td>\n",
       "      <td>0.0</td>\n",
       "      <td>0.0</td>\n",
       "      <td>0.0</td>\n",
       "      <td>0.0</td>\n",
       "      <td>0.0</td>\n",
       "      <td>0.0</td>\n",
       "      <td>0.0</td>\n",
       "      <td>...</td>\n",
       "      <td>0.0</td>\n",
       "      <td>0.0</td>\n",
       "      <td>0.0</td>\n",
       "      <td>0.0</td>\n",
       "      <td>0.0</td>\n",
       "      <td>0.0</td>\n",
       "      <td>0.0</td>\n",
       "      <td>0.0</td>\n",
       "      <td>0.0</td>\n",
       "      <td>0.0</td>\n",
       "    </tr>\n",
       "    <tr>\n",
       "      <th>1</th>\n",
       "      <td>0.0</td>\n",
       "      <td>0.0</td>\n",
       "      <td>0.0</td>\n",
       "      <td>0.0</td>\n",
       "      <td>0.0</td>\n",
       "      <td>0.0</td>\n",
       "      <td>0.0</td>\n",
       "      <td>0.0</td>\n",
       "      <td>0.0</td>\n",
       "      <td>0.0</td>\n",
       "      <td>...</td>\n",
       "      <td>0.0</td>\n",
       "      <td>0.0</td>\n",
       "      <td>0.0</td>\n",
       "      <td>0.0</td>\n",
       "      <td>0.0</td>\n",
       "      <td>0.0</td>\n",
       "      <td>0.0</td>\n",
       "      <td>0.0</td>\n",
       "      <td>0.0</td>\n",
       "      <td>0.0</td>\n",
       "    </tr>\n",
       "    <tr>\n",
       "      <th>2</th>\n",
       "      <td>0.0</td>\n",
       "      <td>0.0</td>\n",
       "      <td>0.0</td>\n",
       "      <td>0.0</td>\n",
       "      <td>0.0</td>\n",
       "      <td>0.0</td>\n",
       "      <td>0.0</td>\n",
       "      <td>0.0</td>\n",
       "      <td>0.0</td>\n",
       "      <td>0.0</td>\n",
       "      <td>...</td>\n",
       "      <td>0.0</td>\n",
       "      <td>0.0</td>\n",
       "      <td>0.0</td>\n",
       "      <td>0.0</td>\n",
       "      <td>0.0</td>\n",
       "      <td>0.0</td>\n",
       "      <td>0.0</td>\n",
       "      <td>0.0</td>\n",
       "      <td>0.0</td>\n",
       "      <td>0.0</td>\n",
       "    </tr>\n",
       "    <tr>\n",
       "      <th>3</th>\n",
       "      <td>0.0</td>\n",
       "      <td>0.0</td>\n",
       "      <td>0.0</td>\n",
       "      <td>0.0</td>\n",
       "      <td>0.0</td>\n",
       "      <td>0.0</td>\n",
       "      <td>0.0</td>\n",
       "      <td>0.0</td>\n",
       "      <td>0.0</td>\n",
       "      <td>0.0</td>\n",
       "      <td>...</td>\n",
       "      <td>0.0</td>\n",
       "      <td>0.0</td>\n",
       "      <td>0.0</td>\n",
       "      <td>0.0</td>\n",
       "      <td>0.0</td>\n",
       "      <td>0.0</td>\n",
       "      <td>0.0</td>\n",
       "      <td>0.0</td>\n",
       "      <td>0.0</td>\n",
       "      <td>0.0</td>\n",
       "    </tr>\n",
       "    <tr>\n",
       "      <th>4</th>\n",
       "      <td>0.0</td>\n",
       "      <td>0.0</td>\n",
       "      <td>0.0</td>\n",
       "      <td>0.0</td>\n",
       "      <td>0.0</td>\n",
       "      <td>0.0</td>\n",
       "      <td>0.0</td>\n",
       "      <td>0.0</td>\n",
       "      <td>0.0</td>\n",
       "      <td>0.0</td>\n",
       "      <td>...</td>\n",
       "      <td>0.0</td>\n",
       "      <td>0.0</td>\n",
       "      <td>0.0</td>\n",
       "      <td>0.0</td>\n",
       "      <td>0.0</td>\n",
       "      <td>0.0</td>\n",
       "      <td>0.0</td>\n",
       "      <td>0.0</td>\n",
       "      <td>0.0</td>\n",
       "      <td>0.0</td>\n",
       "    </tr>\n",
       "  </tbody>\n",
       "</table>\n",
       "<p>5 rows × 724 columns</p>\n",
       "</div>"
      ],
      "text/plain": [
       "   ZIP_1366  ZIP_1005  ZIP_1568  ZIP_2135  ZIP_2068  ZIP_1951  ZIP_1095  \\\n",
       "0       0.0       0.0       0.0       0.0       0.0       0.0       0.0   \n",
       "1       0.0       0.0       0.0       0.0       0.0       0.0       0.0   \n",
       "2       0.0       0.0       0.0       0.0       0.0       0.0       0.0   \n",
       "3       0.0       0.0       0.0       0.0       0.0       0.0       0.0   \n",
       "4       0.0       0.0       0.0       0.0       0.0       0.0       0.0   \n",
       "\n",
       "   ZIP_1508  ZIP_2301  ZIP_2026    ...     ZIP_180  ZIP_1720  ZIP_1961  \\\n",
       "0       0.0       0.0       0.0    ...         0.0       0.0       0.0   \n",
       "1       0.0       0.0       0.0    ...         0.0       0.0       0.0   \n",
       "2       0.0       0.0       0.0    ...         0.0       0.0       0.0   \n",
       "3       0.0       0.0       0.0    ...         0.0       0.0       0.0   \n",
       "4       0.0       0.0       0.0    ...         0.0       0.0       0.0   \n",
       "\n",
       "   ZIP_1104  ZIP_1344  ZIP_1571  ZIP_2370  ZIP_2626 ZIP_8835  ZIP_1825  \n",
       "0       0.0       0.0       0.0       0.0       0.0      0.0       0.0  \n",
       "1       0.0       0.0       0.0       0.0       0.0      0.0       0.0  \n",
       "2       0.0       0.0       0.0       0.0       0.0      0.0       0.0  \n",
       "3       0.0       0.0       0.0       0.0       0.0      0.0       0.0  \n",
       "4       0.0       0.0       0.0       0.0       0.0      0.0       0.0  \n",
       "\n",
       "[5 rows x 724 columns]"
      ]
     },
     "execution_count": 59,
     "metadata": {},
     "output_type": "execute_result"
    }
   ],
   "source": [
    "# Import \"future_data\" dataset\n",
    "future_data = pd.read_csv(\"static/data/midterm_future_data.csv\", encoding='ISO-8859-1')\n",
    "future_data.head()  "
   ]
  },
  {
   "cell_type": "code",
   "execution_count": 61,
   "metadata": {
    "collapsed": false
   },
   "outputs": [
    {
     "data": {
      "text/plain": [
       "array(['ZIP_1366', 'ZIP_1005', 'ZIP_1568', 'ZIP_2135', 'ZIP_2068',\n",
       "       'ZIP_1951', 'ZIP_1095', 'ZIP_1508', 'ZIP_2301', 'ZIP_2026',\n",
       "       'ZIP_1255', 'ZIP_2167', 'ZIP_2421', 'ZIP_2770', 'ZIP_2715',\n",
       "       'ZIP_1034', 'ZIP_2039', 'ZIP_4120', 'REMARKS', 'ZIP_1611',\n",
       "       'ZIP_2568', 'ZIP_2659', 'ZIP_1030', 'ZIP_2346', 'ZIP_10468',\n",
       "       'ZIP_2493', 'ZIP_2081', 'ZIP_2643', 'ZIP_1346', 'ZIP_1867',\n",
       "       'ZIP_2469', 'ZIP_2751', 'ZIP_2660', 'ZIP_2064', 'ZIP_1601',\n",
       "       'ZIP_1864', 'ZIP_2383', 'ZIP_1541', 'ZIP_1370', 'ZIP_1341',\n",
       "       'ZIP_1081', 'ZIP_2150', 'PPSF', 'ZIP_2032', 'ZIP_2571', 'ZIP_1520',\n",
       "       'ZIP_1884', 'ZIP_3034', 'ZIP_1434', 'ZIP_1831', 'ZIP_1606',\n",
       "       'ZIP_2726', 'ZIP_2632', 'ZIP_1921', 'ZIP_2669', 'ZIP_1235',\n",
       "       'ZIP_2633', 'ZIP_2425', 'ZIP_2134', 'ZIP_1035', 'ZIP_1517',\n",
       "       'ZIP_1267', 'ZIP_2116', 'ZIP_20779', 'ZIP_2092', 'ZIP_2149',\n",
       "       'ZIP_1840', 'ZIP_2110', 'ZIP_1534', 'ZIP_1757', 'ZIP_2639',\n",
       "       'ZIP_1907', 'ZIP_2693', 'ZIP_2356', 'ZIP_2870', 'ZIP_2136',\n",
       "       'ZIP_2494', 'ZIP_2131', 'ZIP_2763', 'ZIP_2045', 'ZIP_1923',\n",
       "       'ZIP_1036', 'ZIP_1803', 'ZIP_1905', 'ZIP_20184', 'ZIP_1379',\n",
       "       'ZIP_1742', 'ZIP_1374', 'ZIP_2127', 'ZIP_2703', 'ZIP_10902',\n",
       "       'ZIP_1077', 'ZIP_2133', 'ZIP_2452', 'ZIP_2270', 'ZIP_1701',\n",
       "       'ZIP_2093', 'ZIP_1702', 'ZIP_1747', 'ZIP_1945', 'ZIP_2117',\n",
       "       'ZIP_1129', 'ZIP_1985', 'ZIP_2651', 'ZIP_2457', 'ZIP_2534',\n",
       "       'ZIP_1001', 'ZIP_20452', 'ZIP_2180', 'ZIP_1070', 'ZIP_1610',\n",
       "       'ZIP_1966', 'ZIP_1040', 'ZIP_1922', 'ZIP_2154', 'ZIP_2371',\n",
       "       'ZIP_2492', 'ZIP_2724', 'ZIP_1631', 'ZIP_1451', 'ZIP_2420',\n",
       "       'ZIP_1612', 'ZIP_2464', 'ZIP_20743', 'ZIP_2719', 'ZIP_92962',\n",
       "       'ZIP_2114', 'ZIP_1852', 'ZIP_1826', 'ZIP_1908', 'ZIP_2662',\n",
       "       'ZIP_2562', 'ZIP_2120', 'ZIP_1236', 'ZIP_1367', 'ZIP_1432',\n",
       "       'ZIP_2170', 'ZIP_1850', 'ZIP_1815', 'ZIP_2535', 'ZIP_1342',\n",
       "       'ZIP_2768', 'ZIP_2476', 'ZIP_1519', 'ZIP_1721', 'ZIP_2642',\n",
       "       'ZIP_1068', 'ZIP_1242', 'ZIP_1944', 'ZIP_2020', 'ZIP_2470',\n",
       "       'ZIP_2190', 'ZIP_2777', 'ZIP_1914', 'ZIP_1888', 'ZIP_2153',\n",
       "       'ZIP_2462', 'ZIP_1074', 'ZIP_2766', 'ZIP_2641', 'ZIP_2338',\n",
       "       'ZIP_1609', 'ZIP_2782', 'ZIP_1950', 'ZIP_2541', 'ZIP_1270',\n",
       "       'ZIP_2543', 'ZIP_2624', 'ZIP_2648', 'ZIP_211', 'ZIP_1940',\n",
       "       'ZIP_2347', 'ZIP_2717', 'ZIP_1835', 'ZIP_1337', 'ZIP_1243',\n",
       "       'ZIP_1351', 'ZIP_2776', 'ZIP_2126', 'ZIP_2557', 'ZIP_1880',\n",
       "       'ZIP_1501', 'ZIP_10826', 'ZIP_1349', 'ZIP_1364', 'ZIP_2874',\n",
       "       'ZIP_1002', 'ZIP_2360', 'ZIP_1375', 'ZIP_2631', 'ZIP_2025',\n",
       "       'ZIP_10157', 'ZIP_1749', 'ZIP_2109', 'GARAGE', 'ZIP_1259', 'ZIP_0',\n",
       "       'ZIP_1585', 'ZIP_1820', 'ZIP_263', 'ZIP_1012', 'ZIP_1885',\n",
       "       'ZIP_2228', 'ZIP_2071', 'ZIP_1031', 'ZIP_1468', 'ZIP_2540',\n",
       "       'ZIP_2722', 'ZIP_1776', 'ZIP_2445', 'ZIP_2573', 'ZIP_2841',\n",
       "       'ZIP_10018', 'ZIP_2043', 'ZIP_1266', 'ZIP_2569', 'ZIP_1082',\n",
       "       'ZIP_1376', 'ZIP_2556', 'ZIP_2652', 'ZIP_1983', 'ZIP_2723',\n",
       "       'ZIP_2076', 'ZIP_2330', 'ZIP_2324', 'ZIP_2035', 'ZIP_2475',\n",
       "       'ZIP_1507', 'ZIP_1350', 'ZIP_1239', 'ZIP_1230', 'ZIP_1069',\n",
       "       'ZIP_1827', 'ZIP_10002', 'ZIP_1833', 'ZIP_2188', 'ZIP_2354',\n",
       "       'ZIP_1503', 'ZIP_2576', 'ZIP_1686', 'ZIP_2625', 'ZIP_2744',\n",
       "       'ZIP_1890', 'ZIP_2333', 'ZIP_1767', 'ZIP_2345', 'ZIP_1257',\n",
       "       'ZIP_2745', 'ZIP_1119', 'ZIP_2532', 'ZIP_1438', 'ZIP_1226',\n",
       "       'ZIP_2666', 'ZIP_1094', 'ZIP_2672', 'ZIP_1564', 'ZIP_1886',\n",
       "       'ZIP_2047', 'ZIP_1607', 'ZIP_2090', 'ZIP_2446', 'ZIP_2601',\n",
       "       'ZIP_2718', 'ZIP_1096', 'ZIP_1773', 'ZIP_1373', 'ZIP_2664',\n",
       "       'ZIP_1062', 'ZIP_1089', 'ZIP_1339', 'ZIP_2539', 'ZIP_2334',\n",
       "       'ZIP_2649', 'ZIP_2474', 'ZIP_1542', 'ZIP_92148', 'ZIP_1249',\n",
       "       'ZIP_1462', 'ZIP_1510', 'ZIP_1431', 'ZIP_2019', 'BATHS',\n",
       "       'ZIP_1093', 'ZIP_1741', 'ZIP_2130', 'ZIP_2191', 'ZIP_1108',\n",
       "       'ZIP_1703', 'ZIP_2128', 'ZIP_2212', 'ZIP_2635', 'ZIP_2053',\n",
       "       'ZIP_1007', 'ZIP_1355', 'ZIP_1522', 'ZIP_1920', 'ZIP_1109',\n",
       "       'ZIP_1245', 'ZIP_1853', 'ZIP_2760', 'ZIP_1730', 'ZIP_2151',\n",
       "       'ZIP_2563', 'ZIP_2030', 'ZIP_2748', 'ZIP_1041', 'ZIP_1901',\n",
       "       'ZIP_1515', 'ZIP_2769', 'ZIP_2060', 'ZIP_1061', 'ZIP_1906',\n",
       "       'ZIP_2302', 'ZIP_1535', 'ZIP_2322', 'ZIP_2124', 'ZIP_1775',\n",
       "       'ZIP_2364', 'ZIP_2634', 'ZIP_1302', 'ZIP_2139', 'DisplayY',\n",
       "       'ZIP_1238', 'ZIP_2155', 'ZIP_2101', 'ZIP_1841', 'ZIP_1863',\n",
       "       'ZIP_7766', 'ZIP_2036', 'ZIP_1464', 'ZIP_1590', 'ZIP_1560',\n",
       "       'ZIP_1915', 'ZIP_2779', 'ZIP_2303', 'ZIP_2260', 'ZIP_1073',\n",
       "       'ZIP_2318', 'ZIP_2546', 'ZIP_1605', 'ZIP_1232', 'ZIP_1529',\n",
       "       'ZIP_2547', 'ZIP_1505', 'ZIP_1516', 'ZIP_1834', 'ZIP_2482',\n",
       "       'ZIP_2638', 'ZIP_1474', 'ZIP_2713', 'ZIP_2667', 'ZIP_2647',\n",
       "       'ZIP_1952', 'ZIP_1473', 'ZIP_1020', 'ZIP_1801', 'ZIP_2082',\n",
       "       'ZIP_1509', 'ZIP_1929', 'ZIP_2121', 'ZIP_2048', 'ZIP_1562',\n",
       "       'ZIP_2536', 'ZIP_2553', 'ZIP_1527', 'ZIP_216', 'ZIP_2051',\n",
       "       'ZIP_1545', 'ZIP_1027', 'ZIP_1080', 'ZIP_1353', 'ZIP_1766',\n",
       "       'ZIP_2119', 'ZIP_2657', 'ZIP_1869', 'ZIP_2789', 'ZIP_8861',\n",
       "       'ZIP_1532', 'ZIP_2108', 'ZIP_1128', 'PROPTYPE', 'ZIP_1960',\n",
       "       'ZIP_1604', 'LOTSIZE', 'ZIP_20302', 'ZIP_1570', 'ZIP_1304',\n",
       "       'ZIP_1175', 'ZIP_1904', 'ZIP_1008', 'ZIP_2038', 'ZIP_1524',\n",
       "       'ZIP_1050', 'ZIP_1066', 'ZIP_1931', 'ZIP_1830', 'ZIP_2453',\n",
       "       'ZIP_1106', 'ZIP_2465', 'ZIP_2181', 'ZIP_1984', 'ZIP_1301',\n",
       "       'ZIP_1550', 'ZIP_2305', 'ZIP_2739', 'ZIP_1740', 'ZIP_1420',\n",
       "       'ZIP_1038', 'ZIP_2144', 'ZIP_2661', 'ZIP_1583', 'ZIP_2511',\n",
       "       'ZIP_1085', 'ZIP_2351', 'ZIP_1760', 'ZIP_2747', 'ZIP_2435',\n",
       "       'ZIP_1475', 'ZIP_1879', 'ZIP_1075', 'ZIP_2169', 'ZIP_2472',\n",
       "       'ZIP_2575', 'ZIP_1098', 'ZIP_5510', 'ZIP_2061', 'ZIP_2215',\n",
       "       'ZIP_2145', 'ZIP_92664', 'ZIP_1057', 'ZIP_1608', 'ZIP_2559',\n",
       "       'ZIP_2132', 'ZIP_2216', 'ZIP_2555', 'ZIP_2630', 'ZIP_1331',\n",
       "       'ZIP_1540', 'ZIP_1543', 'ZIP_2738', 'ZIP_2542', 'LISTMONTH',\n",
       "       'ZIP_2458', 'ZIP_1518', 'ZIP_1338', 'ZIP_1764', 'ZIP_2141',\n",
       "       'ZIP_2052', 'MLSNUM', 'ZIP_1469', 'ZIP_2379', 'ZIP_1472',\n",
       "       'ZIP_1756', 'ZIP_2781', 'ZIP_1903', 'DisplayX', 'ZIP_1824',\n",
       "       'ZIP_1079', 'ZIP_1013', 'ZIP_1037', 'ZIP_1602', 'ZIP_2176',\n",
       "       'ZIP_2451', 'ZIP_1028', 'ZIP_1240', 'ZIP_2526', 'ZIP_1052',\n",
       "       'ZIP_2771', 'ZIP_2342', 'ZIP_1865', 'ZIP_1531', 'ZIP_2171',\n",
       "       'ZIP_2783', 'ZIP_2122', 'ZIP_20155', 'ZIP_198', 'ZIP_2312',\n",
       "       'ZIP_8164', 'ZIP_1289', 'ZIP_1778', 'ZIP_2067', 'ZIP_1536',\n",
       "       'ZIP_2003', 'ZIP_1360', 'ZIP_2059', 'ZIP_1844', 'ZIP_2355',\n",
       "       'ZIP_1453', 'ZIP_161', 'ZIP_1430', 'ZIP_1752', 'ZIP_1103',\n",
       "       'ZIP_2118', 'ZIP_1504', 'ZIP_1569', 'ZIP_2454', 'ZIP_2767',\n",
       "       'ZIP_1561', 'ZIP_2337', 'ZIP_1938', 'ZIP_2111', 'ZIP_2650',\n",
       "       'ZIP_2050', 'ZIP_2725', 'ZIP_1854', 'ZIP_1072', 'ZIP_1718',\n",
       "       'ZIP_2538', 'ZIP_1071', 'ZIP_1862', 'AGE', 'ZIP_2340', 'ZIP_2467',\n",
       "       'ZIP_1572', 'ZIP_1969', 'ZIP_1039', 'ZIP_2140', 'ZIP_2727',\n",
       "       'ZIP_1876', 'ZIP_1118', 'ZIP_2142', 'ZIP_2368', 'ZIP_1201',\n",
       "       'ZIP_1512', 'ZIP_1000', 'BEDS', 'ZIP_2350', 'ZIP_2402', 'ZIP_2066',\n",
       "       'ZIP_1340', 'ZIP_2359', 'ZIP_2780', 'ZIP_1024', 'ZIP_2478',\n",
       "       'ZIP_1935', 'ZIP_10915', 'ZIP_1452', 'ZIP_2671', 'ZIP_1107',\n",
       "       'ZIP_2460', 'ZIP_2332', 'ZIP_2031', 'ZIP_1887', 'ZIP_1719',\n",
       "       'ZIP_1436', 'ZIP_1575', 'ZIP_2021', 'ZIP_2646', 'ZIP_2199',\n",
       "       'ZIP_2670', 'ZIP_1225', 'ZIP_2459', 'ZIP_2636', 'ZIP_2743',\n",
       "       'ZIP_1032', 'ZIP_1832', 'ZIP_2549', 'ZIP_2720', 'ZIP_1521',\n",
       "       'ZIP_2721', 'ZIP_2343', 'ZIP_2123', 'ZIP_2740', 'ZIP_2054',\n",
       "       'ZIP_185', 'ZIP_1378', 'ZIP_3858', 'ZIP_1088', 'ZIP_1596',\n",
       "       'ZIP_1011', 'ZIP_2730', 'ZIP_8145', 'ZIP_1745', 'ZIP_2653',\n",
       "       'ZIP_2198', 'ZIP_2375', 'ZIP_1450', 'ZIP_1588', 'ZIP_1772',\n",
       "       'ZIP_1354', 'ZIP_2138', 'ZIP_2574', 'ZIP_2344', 'ZIP_1410',\n",
       "       'ZIP_2358', 'ZIP_1821', 'ZIP_1913', 'ZIP_2537', 'ZIP_1009',\n",
       "       'ZIP_1506', 'ZIP_2554', 'ZIP_1930', 'ZIP_1770', 'ZIP_2186',\n",
       "       'ZIP_2676', 'ZIP_2112', 'ZIP_1254', 'ZIP_2152', 'ZIP_2189', 'SQFT',\n",
       "       'PHOTOURL', 'ZIP_1523', 'ZIP_1784', 'ZIP_2062', 'ZIP_218',\n",
       "       'ZIP_1537', 'ZIP_1769', 'ZIP_1101', 'ZIP_2790', 'ZIP_1566',\n",
       "       'ZIP_1029', 'ZIP_1613', 'LISTDATE', 'ZIP_1084', 'ZIP_1033',\n",
       "       'ZIP_2184', 'ZIP_2341', 'ZIP_2673', 'ZIP_2046', 'ZIP_1105',\n",
       "       'ZIP_1603', 'ZIP_1866', 'ZIP_2308', 'ZIP_2143', 'ZIP_2466',\n",
       "       'ZIP_2714', 'ZIP_2148', 'ZIP_9107', 'ZIP_2637', 'ZIP_2367',\n",
       "       'ZIP_1368', 'ZIP_1970', 'ZIP_1056', 'ZIP_2129', 'ZIP_1262',\n",
       "       'ZIP_1083', 'ZIP_1843', 'ZIP_2113', 'ZIP_1965', 'ZIP_1946',\n",
       "       'ZIP_2858', 'ZIP_1092', 'ZIP_10175', 'ZIP_1223', 'ZIP_1054',\n",
       "       'ZIP_2461', 'ZIP_1845', 'ZIP_1151', 'ZIP_2503', 'ZIP_2655',\n",
       "       'ZIP_2702', 'ZIP_1019', 'ZIP_1936', 'ZIP_2645', 'ZIP_1949',\n",
       "       'ZIP_2561', 'ZIP_2764', 'ZIP_1253', 'ZIP_1810', 'ZIP_2791',\n",
       "       'ZIP_1026', 'ZIP_1210', 'ZIP_2558', 'ZIP_1525', 'ZIP_2125',\n",
       "       'ZIP_2762', 'ZIP_1256', 'ZIP_20382', 'ZIP_2072', 'ZIP_2644',\n",
       "       'ZIP_1460', 'ZIP_256', 'ZIP_2239', 'ZIP_1022', 'ZIP_10603',\n",
       "       'ZIP_1053', 'ZIP_1463', 'ZIP_2381', 'ZIP_2495', 'ZIP_1959',\n",
       "       'ZIP_2369', 'ZIP_1754', 'ZIP_20771', 'ZIP_2245', 'ZIP_1440',\n",
       "       'ZIP_2056', 'ZIP_2862', 'ZIP_1982', 'ZIP_2382', 'ZIP_1247',\n",
       "       'ZIP_1902', 'ZIP_1237', 'ZIP_1851', 'ZIP_1330', 'ZIP_2115',\n",
       "       'ZIP_2675', 'ZIP_2481', 'ZIP_1746', 'ZIP_2468', 'ZIP_1220',\n",
       "       'ZIP_2668', 'ZIP_1748', 'ZIP_1010', 'ZIP_1060', 'ZIP_1860',\n",
       "       'ZIP_1581', 'ZIP_2904', 'ZIP_1049', 'ZIP_2746', 'ZIP_2210',\n",
       "       'ZIP_2339', 'LISTPRICE', 'ZIP_1567', 'ZIP_1822', 'ZIP_180',\n",
       "       'ZIP_1720', 'ZIP_1961', 'ZIP_1104', 'ZIP_1344', 'ZIP_1571',\n",
       "       'ZIP_2370', 'ZIP_2626', 'ZIP_8835', 'ZIP_1825'], dtype=object)"
      ]
     },
     "execution_count": 61,
     "metadata": {},
     "output_type": "execute_result"
    }
   ],
   "source": [
    "# Print future_data columns \n",
    "# You can use future_data.columns.values \n",
    "\n",
    "future_data.columns.values"
   ]
  },
  {
   "cell_type": "markdown",
   "metadata": {},
   "source": [
    "We want to extract only valid predictors from \"future_data\" dataset. Note: we don't want to use features such as 'PHOTOURL','MLSNUM' or 'LISTPRICE' as our predictors."
   ]
  },
  {
   "cell_type": "markdown",
   "metadata": {},
   "source": [
    "YOUR TURN <br><br>\n",
    "**Question 8 (1 pt):** <br> Create \"predicion_features\" variable to store the approprate set of features. <br>Note: The number of features needs to coresspond to the features set used for training. "
   ]
  },
  {
   "cell_type": "code",
   "execution_count": 62,
   "metadata": {
    "collapsed": true
   },
   "outputs": [],
   "source": [
    "# YOUR CODE HERE\n",
    "prediction_features = list(set(future_data.columns) - set(['PHOTOURL','MLSNUM','REMARKS','LISTDATE',\n",
    "                                          'LISTPRICE','PROPTYPE', 'DisplayX','DisplayY']))"
   ]
  },
  {
   "cell_type": "code",
   "execution_count": 64,
   "metadata": {
    "collapsed": false
   },
   "outputs": [],
   "source": [
    "# Create new dataset called \"predictions_df\"\n",
    "# The dataset will contain only \"predicion_features\" set\n",
    "\n",
    "predictions_df = future_data[prediction_features]"
   ]
  },
  {
   "cell_type": "markdown",
   "metadata": {},
   "source": [
    "YOUR TURN <br><br>\n",
    "**Question 9 (1 pt):** <br> Predict prices using your best model. Store predictions in the variable called \"predictions\". "
   ]
  },
  {
   "cell_type": "code",
   "execution_count": 85,
   "metadata": {
    "collapsed": true
   },
   "outputs": [],
   "source": [
    "# YOUR CODE HERE\n",
    "predictions = gb.predict(predictions_df)"
   ]
  },
  {
   "cell_type": "code",
   "execution_count": 86,
   "metadata": {
    "collapsed": true
   },
   "outputs": [],
   "source": [
    "# Round prediction values \n",
    "predictions = predictions.round(2)"
   ]
  },
  {
   "cell_type": "code",
   "execution_count": 89,
   "metadata": {
    "collapsed": false
   },
   "outputs": [],
   "source": [
    "# Add new column 'predicted_price' to the 'future_data' dataset\n",
    "# Pass newly predicted values\n",
    "\n",
    "future_data['predicted_price'] = predictions"
   ]
  },
  {
   "cell_type": "code",
   "execution_count": 90,
   "metadata": {
    "collapsed": true
   },
   "outputs": [],
   "source": [
    "# Choose the final set of columns to be use for you final export\n",
    "\n",
    "final_cols = ['DisplayY','DisplayX','BEDS','SQFT','PHOTOURL','PPSF',\n",
    "            'BATHS','MLSNUM','LISTPRICE', 'REMARKS', 'predicted_price']"
   ]
  },
  {
   "cell_type": "code",
   "execution_count": 91,
   "metadata": {
    "collapsed": true,
    "scrolled": true
   },
   "outputs": [],
   "source": [
    "# Create new dataframe for export\n",
    "# NOTE: This dataframe will be exported to csv file and used in Midterm_Part_II\n",
    "\n",
    "for_export_df = future_data[final_cols]"
   ]
  },
  {
   "cell_type": "code",
   "execution_count": 92,
   "metadata": {
    "collapsed": true,
    "scrolled": true
   },
   "outputs": [],
   "source": [
    "# Change column names (small caps)\n",
    "for_export_df = for_export_df.rename(columns={'REMARKS':'remarks', 'LISTPRICE':'list_price', 'DisplayY':'display_y', \n",
    "                                        'DisplayX':'display_x', 'BEDS':'beds', 'SQFT':'sqft', 'PHOTOURL':'photo_url', \n",
    "                                        'PPSF':'ppsf', 'BATHS':'baths', 'MLSNUM':'mlsnum'})"
   ]
  },
  {
   "cell_type": "code",
   "execution_count": 93,
   "metadata": {
    "collapsed": true
   },
   "outputs": [],
   "source": [
    "# Round lon/lat data\n",
    "# Parse MLS number to int \n",
    "# Note: For MLS number, you may want to use string later, in the Midterm_Part_II \n",
    "\n",
    "for_export_df['display_y'] = for_export_df['display_y'].round(5)\n",
    "for_export_df['display_x'] = for_export_df['display_x'].round(5)\n",
    "for_export_df['mlsnum'] = for_export_df['mlsnum'].astype(int)"
   ]
  },
  {
   "cell_type": "code",
   "execution_count": 94,
   "metadata": {
    "collapsed": false
   },
   "outputs": [
    {
     "data": {
      "text/html": [
       "<div>\n",
       "<table border=\"1\" class=\"dataframe\">\n",
       "  <thead>\n",
       "    <tr style=\"text-align: right;\">\n",
       "      <th></th>\n",
       "      <th>display_y</th>\n",
       "      <th>display_x</th>\n",
       "      <th>beds</th>\n",
       "      <th>sqft</th>\n",
       "      <th>photo_url</th>\n",
       "      <th>ppsf</th>\n",
       "      <th>baths</th>\n",
       "      <th>mlsnum</th>\n",
       "      <th>list_price</th>\n",
       "      <th>remarks</th>\n",
       "      <th>predicted_price</th>\n",
       "    </tr>\n",
       "  </thead>\n",
       "  <tbody>\n",
       "    <tr>\n",
       "      <th>0</th>\n",
       "      <td>42.34879</td>\n",
       "      <td>-71.07807</td>\n",
       "      <td>1</td>\n",
       "      <td>418.0</td>\n",
       "      <td>http://media.mlspin.com/photo.aspx?mls=72250173</td>\n",
       "      <td>1244.02</td>\n",
       "      <td>1.0</td>\n",
       "      <td>72250173</td>\n",
       "      <td>519000.0</td>\n",
       "      <td>Excellent opportunity to own a studio at Trini...</td>\n",
       "      <td>339991.74</td>\n",
       "    </tr>\n",
       "    <tr>\n",
       "      <th>1</th>\n",
       "      <td>42.36682</td>\n",
       "      <td>-71.03763</td>\n",
       "      <td>3</td>\n",
       "      <td>1426.0</td>\n",
       "      <td>http://media.mlspin.com/photo.aspx?mls=72251181</td>\n",
       "      <td>490.18</td>\n",
       "      <td>2.0</td>\n",
       "      <td>72251181</td>\n",
       "      <td>699000.0</td>\n",
       "      <td>Newly renovated, 3 bedroom +study, 2 bath feat...</td>\n",
       "      <td>132110.29</td>\n",
       "    </tr>\n",
       "    <tr>\n",
       "      <th>2</th>\n",
       "      <td>42.26208</td>\n",
       "      <td>-71.52786</td>\n",
       "      <td>2</td>\n",
       "      <td>2100.0</td>\n",
       "      <td>http://media.mlspin.com/photo.aspx?mls=72250996</td>\n",
       "      <td>189.05</td>\n",
       "      <td>2.5</td>\n",
       "      <td>72250996</td>\n",
       "      <td>409000.0</td>\n",
       "      <td>Lovely townhome in The Preserve a gated commun...</td>\n",
       "      <td>-2137.52</td>\n",
       "    </tr>\n",
       "    <tr>\n",
       "      <th>3</th>\n",
       "      <td>42.35796</td>\n",
       "      <td>-71.05054</td>\n",
       "      <td>1</td>\n",
       "      <td>1230.0</td>\n",
       "      <td>http://media.mlspin.com/photo.aspx?mls=72254711</td>\n",
       "      <td>1341.46</td>\n",
       "      <td>1.5</td>\n",
       "      <td>72254711</td>\n",
       "      <td>1650000.0</td>\n",
       "      <td>Seldom available opportunity to have the covet...</td>\n",
       "      <td>306928.51</td>\n",
       "    </tr>\n",
       "    <tr>\n",
       "      <th>4</th>\n",
       "      <td>42.61405</td>\n",
       "      <td>-71.22847</td>\n",
       "      <td>2</td>\n",
       "      <td>1040.0</td>\n",
       "      <td>http://media.mlspin.com/photo.aspx?mls=72250876</td>\n",
       "      <td>302.88</td>\n",
       "      <td>2.5</td>\n",
       "      <td>72250876</td>\n",
       "      <td>304900.0</td>\n",
       "      <td>Looking for that well priced Townhouse that is...</td>\n",
       "      <td>72218.38</td>\n",
       "    </tr>\n",
       "  </tbody>\n",
       "</table>\n",
       "</div>"
      ],
      "text/plain": [
       "   display_y  display_x  beds    sqft  \\\n",
       "0   42.34879  -71.07807     1   418.0   \n",
       "1   42.36682  -71.03763     3  1426.0   \n",
       "2   42.26208  -71.52786     2  2100.0   \n",
       "3   42.35796  -71.05054     1  1230.0   \n",
       "4   42.61405  -71.22847     2  1040.0   \n",
       "\n",
       "                                         photo_url     ppsf  baths    mlsnum  \\\n",
       "0  http://media.mlspin.com/photo.aspx?mls=72250173  1244.02    1.0  72250173   \n",
       "1  http://media.mlspin.com/photo.aspx?mls=72251181   490.18    2.0  72251181   \n",
       "2  http://media.mlspin.com/photo.aspx?mls=72250996   189.05    2.5  72250996   \n",
       "3  http://media.mlspin.com/photo.aspx?mls=72254711  1341.46    1.5  72254711   \n",
       "4  http://media.mlspin.com/photo.aspx?mls=72250876   302.88    2.5  72250876   \n",
       "\n",
       "   list_price                                            remarks  \\\n",
       "0    519000.0  Excellent opportunity to own a studio at Trini...   \n",
       "1    699000.0  Newly renovated, 3 bedroom +study, 2 bath feat...   \n",
       "2    409000.0  Lovely townhome in The Preserve a gated commun...   \n",
       "3   1650000.0  Seldom available opportunity to have the covet...   \n",
       "4    304900.0  Looking for that well priced Townhouse that is...   \n",
       "\n",
       "   predicted_price  \n",
       "0        339991.74  \n",
       "1        132110.29  \n",
       "2         -2137.52  \n",
       "3        306928.51  \n",
       "4         72218.38  "
      ]
     },
     "execution_count": 94,
     "metadata": {},
     "output_type": "execute_result"
    }
   ],
   "source": [
    "# Final check\n",
    "for_export_df.head()"
   ]
  },
  {
   "cell_type": "markdown",
   "metadata": {},
   "source": [
    "Your dataset (from above) should look like this (**'predicted_price' figures may be different due to dfferent splits and that is ok! **):<br>\n",
    "<img src=\"static/img/final_dataset.png\" align=\"center\">"
   ]
  },
  {
   "cell_type": "markdown",
   "metadata": {},
   "source": [
    "YOUR TURN <br><br>\n",
    "**Question 10 (1 pt):** <br> Export \"for_export_df\" dataframe into \"midterm.csv\" file and store it into your \"data\" folder. You will model the \"condos\" database table according to it, so make sure you have completed this step!"
   ]
  },
  {
   "cell_type": "code",
   "execution_count": 95,
   "metadata": {
    "collapsed": true
   },
   "outputs": [],
   "source": [
    "# YOUR CODE HERE\n",
    "for_export_df.to_csv('static/data/midterm.csv', index=None)"
   ]
  },
  {
   "cell_type": "code",
   "execution_count": 96,
   "metadata": {
    "collapsed": false
   },
   "outputs": [
    {
     "data": {
      "text/plain": [
       "(60, 11)"
      ]
     },
     "execution_count": 96,
     "metadata": {},
     "output_type": "execute_result"
    }
   ],
   "source": [
    "# Check the dataset shape - you should see (60, 11)\n",
    "for_export_df.shape"
   ]
  },
  {
   "cell_type": "markdown",
   "metadata": {},
   "source": [
    "Your \"data\" folder should look like this (together with \"sold_geocoded.csv\"):\n",
    "\n",
    "<img src=\"static/img/data2.png\" align=\"left\">"
   ]
  },
  {
   "cell_type": "markdown",
   "metadata": {
    "collapsed": true
   },
   "source": [
    "Congratulations! You finished the Part I. :)"
   ]
  },
  {
   "cell_type": "code",
   "execution_count": null,
   "metadata": {
    "collapsed": true
   },
   "outputs": [],
   "source": []
  }
 ],
 "metadata": {
  "anaconda-cloud": {},
  "kernelspec": {
   "display_name": "Python [default]",
   "language": "python",
   "name": "python3"
  },
  "language_info": {
   "codemirror_mode": {
    "name": "ipython",
    "version": 3
   },
   "file_extension": ".py",
   "mimetype": "text/x-python",
   "name": "python",
   "nbconvert_exporter": "python",
   "pygments_lexer": "ipython3",
   "version": "3.5.2"
  }
 },
 "nbformat": 4,
 "nbformat_minor": 2
}
